{
 "cells": [
  {
   "cell_type": "code",
   "execution_count": null,
   "metadata": {},
   "outputs": [],
   "source": [
    "# pip install Selenium\n",
    "# pip install webdriver-manager"
   ]
  },
  {
   "cell_type": "code",
   "execution_count": null,
   "metadata": {},
   "outputs": [],
   "source": [
    "from selenium import webdriver\n",
    "from selenium.webdriver.common.keys import Keys\n",
    "from selenium.webdriver.common.by import By\n",
    "from selenium.webdriver.chrome.options import Options\n",
    "import json"
   ]
  },
  {
   "cell_type": "code",
   "execution_count": null,
   "metadata": {},
   "outputs": [],
   "source": [
    "chrome_options = Options()\n",
    "chrome_options.add_argument(\"--disable-extensions\")\n",
    "driver = webdriver.Chrome(options=chrome_options)"
   ]
  },
  {
   "cell_type": "code",
   "execution_count": null,
   "metadata": {},
   "outputs": [],
   "source": [
    "def generate_json(data, index):    \n",
    "    with open(f\"products_{index}.json\", \"w\") as outfile:\n",
    "        json.dump(data, outfile,indent = 4)"
   ]
  },
  {
   "cell_type": "code",
   "execution_count": null,
   "metadata": {},
   "outputs": [],
   "source": [
    "domain = \"https://www.myntra.com\"\n",
    "\n",
    "def scrape_products(first, last):\n",
    "    url = f\"{domain}/myntra-fashion-store?p={first}\"\n",
    "    driver.get(url)\n",
    "    results = driver.find_elements(By.CLASS_NAME, \"product-base\")\n",
    "    products = []\n",
    "    \n",
    "    for result in results:\n",
    "        image_src = \"\"\n",
    "        brand = \"\"\n",
    "        title = \"\"\n",
    "        size = \"\"\n",
    "        href = \"\"\n",
    "        href = \"\"\n",
    "        discounted_price = \"\"\n",
    "        original_price = \"\"\n",
    "        discount = \"\"\n",
    "        \n",
    "        try:\n",
    "            try:\n",
    "                image_src = result.find_element(By.CSS_SELECTOR, \"img.img-responsive\").get_attribute(\"src\")\n",
    "                image_alt = result.find_element(By.CSS_SELECTOR, \"img.img-responsive\").get_attribute(\"alt\")\n",
    "                image_title = result.find_element(By.CSS_SELECTOR, \"img.img-responsive\").get_attribute(\"title\")\n",
    "            except:\n",
    "                pass\n",
    "            try:\n",
    "                brand = result.find_element(By.CLASS_NAME, \"product-brand\").text\n",
    "            except:\n",
    "                pass\n",
    "            try:\n",
    "                title = result.find_element(By.CLASS_NAME,\"product-product\").text\n",
    "            except:\n",
    "                pass\n",
    "            try:\n",
    "                size = result.find_element(By.CLASS_NAME,\"product-sizes\").text\n",
    "            except:\n",
    "                pass\n",
    "            try:\n",
    "                href = result.find_element(By.TAG_NAME,\"a\").get_attribute(\"href\")\n",
    "            except:\n",
    "                pass\n",
    "            try:\n",
    "                discounted_price = result.find_element(By.CLASS_NAME,\"product-discountedPrice\").text\n",
    "            except:\n",
    "                pass\n",
    "            try:\n",
    "                original_price = result.find_element(By.CLASS_NAME,\"product-strike\").text\n",
    "            except:\n",
    "                pass\n",
    "            try:\n",
    "                discount = result.find_element(By.CLASS_NAME,\"product-discountPercentage\").text\n",
    "            except:\n",
    "                pass\n",
    "        except:\n",
    "            pass\n",
    "\n",
    "        product = {\n",
    "            \"image_src\": image_src,\n",
    "            \"brand\": brand,\n",
    "            \"title\": title,\n",
    "            \"size\": size,\n",
    "            \"href\": href,\n",
    "            \"href\": href,\n",
    "            \"discounted_price\": discounted_price,\n",
    "            \"original_price\": original_price,\n",
    "            \"discount\": discount,\n",
    "        }\n",
    "        \n",
    "        products.append(product)\n",
    "    generate_json(products, first)\n",
    "    if first < last:\n",
    "        scrape_products(first+1, last)\n",
    "    else:\n",
    "        return\n",
    "    "
   ]
  },
  {
   "cell_type": "code",
   "execution_count": null,
   "metadata": {},
   "outputs": [],
   "source": [
    "scrape_products(1,100)"
   ]
  }
 ],
 "metadata": {
  "language_info": {
   "name": "python"
  },
  "orig_nbformat": 4
 },
 "nbformat": 4,
 "nbformat_minor": 2
}
